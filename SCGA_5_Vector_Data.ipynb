{
 "cells": [
  {
   "cell_type": "code",
   "execution_count": 2,
   "id": "551b442c",
   "metadata": {},
   "outputs": [],
   "source": [
    "from shapely.geometry import Point, LineString, Polygon\n",
    "import geopandas as gpd\n"
   ]
  },
  {
   "cell_type": "code",
   "execution_count": 3,
   "id": "d2a064f9",
   "metadata": {},
   "outputs": [
    {
     "name": "stdout",
     "output_type": "stream",
     "text": [
      "POINT (2.2 4.2)\n",
      "POINT (2.2 4.2)\n",
      "POINT Z (9.26 -2.456 0.57)\n",
      "<shapely.coords.CoordinateSequence object at 0x000001E98E53DC10>\n"
     ]
    }
   ],
   "source": [
    "# Create Point geometric object(s) with coordinates\n",
    "point1 = Point(2.2, 4.2)\n",
    "point2 = Point(7.2, -25.1)\n",
    "point3 = Point(9.26, -2.456)\n",
    "point3D = Point(9.26, -2.456, 0.57)\n",
    "print(point1)\n",
    "print(point1)\n",
    "print(point3D)\n",
    "type(point1)\n",
    "# Get the coordinates\n",
    "point_coords = point1.coords\n",
    "print(point_coords)\n",
    "# Get x and y coordinates\n",
    "xy = point_coords.xy\n"
   ]
  },
  {
   "cell_type": "code",
   "execution_count": 12,
   "id": "5387d491",
   "metadata": {},
   "outputs": [
    {
     "name": "stdout",
     "output_type": "stream",
     "text": [
      "<shapely.coords.CoordinateSequence object at 0x000001E9919B03A0>\n"
     ]
    }
   ],
   "source": [
    "# Get the coordinates\n",
    "point_coords = point1.coords\n",
    "print(point_coords)\n"
   ]
  },
  {
   "cell_type": "code",
   "execution_count": 4,
   "id": "5353317e",
   "metadata": {},
   "outputs": [],
   "source": [
    "# Get only x coordinates of Point1\n",
    "x = point1.x"
   ]
  },
  {
   "cell_type": "code",
   "execution_count": null,
   "id": "35bea5a2",
   "metadata": {},
   "outputs": [],
   "source": [
    "# Whatabout y coordinate?\n",
    "y = point1.y\n",
    "print(\"xy:\", xy, \"\\n\")\n",
    "print(\"x:\", x, \"\\n\")\n",
    "print(\"y:\", y)\n"
   ]
  },
  {
   "cell_type": "code",
   "execution_count": 13,
   "id": "b79e9102",
   "metadata": {},
   "outputs": [
    {
     "name": "stdout",
     "output_type": "stream",
     "text": [
      "Distance between the points is 29.72 decimal degrees\n"
     ]
    }
   ],
   "source": [
    "# Calculate the distance between point1 and point2\n",
    "point_dist = point1.distance(point2)\n",
    "print(\"Distance between the points is {0:.2f} decimal degrees\".format(point_dist))"
   ]
  },
  {
   "cell_type": "code",
   "execution_count": 8,
   "id": "669a5f27",
   "metadata": {},
   "outputs": [],
   "source": [
    "# Create a LineString from our Point objects\n",
    "line = LineString([point1, point2, point3])"
   ]
  },
  {
   "cell_type": "code",
   "execution_count": 9,
   "id": "7eb79121",
   "metadata": {},
   "outputs": [],
   "source": [
    "# It is also possible to produce the same outcome using coordinate tuples\n",
    "line2 = LineString([(2.2, 4.2), (7.2, -25.1), (9.26, -2.456)])"
   ]
  },
  {
   "cell_type": "code",
   "execution_count": 10,
   "id": "7463739a",
   "metadata": {},
   "outputs": [
    {
     "name": "stdout",
     "output_type": "stream",
     "text": [
      "(array('d', [2.2, 7.2, 9.26]), array('d', [4.2, -25.1, -2.456]))\n"
     ]
    }
   ],
   "source": [
    "# Get x and y coordinates of the line\n",
    "lxy = line.xy\n",
    "print(lxy)\n"
   ]
  },
  {
   "cell_type": "code",
   "execution_count": 14,
   "id": "459a19cc",
   "metadata": {},
   "outputs": [],
   "source": [
    "# Extract x coordinates\n",
    "line_xcoords = lxy[0]"
   ]
  },
  {
   "cell_type": "code",
   "execution_count": 16,
   "id": "eb9757ce",
   "metadata": {},
   "outputs": [
    {
     "name": "stdout",
     "output_type": "stream",
     "text": [
      "line_x:\n",
      " array('d', [2.2, 7.2, 9.26]) \n",
      "\n",
      "line_y:\n",
      " array('d', [4.2, -25.1, -2.456])\n"
     ]
    }
   ],
   "source": [
    "# Extract y coordinates straight from the LineObject by referring to a array at index 1\n",
    "line_ycoords = line.xy[1]\n",
    "print('line_x:\\n', line_xcoords, '\\n')\n",
    " \n",
    "print('line_y:\\n', line_ycoords)\n",
    "\n"
   ]
  },
  {
   "cell_type": "code",
   "execution_count": 17,
   "id": "dae2ebc4",
   "metadata": {},
   "outputs": [],
   "source": [
    "import geopandas as gpd"
   ]
  },
  {
   "cell_type": "code",
   "execution_count": 20,
   "id": "df381e9f",
   "metadata": {},
   "outputs": [
    {
     "name": "stdout",
     "output_type": "stream",
     "text": [
      "   id                                           geometry\n",
      "0   1  POLYGON ((828557.327 2028149.964, 825335.117 2...\n"
     ]
    },
    {
     "name": "stderr",
     "output_type": "stream",
     "text": [
      "C:\\Users\\RAMBABU\\anaconda3\\lib\\site-packages\\geopandas\\io\\file.py:362: FutureWarning: pandas.Int64Index is deprecated and will be removed from pandas in a future version. Use pandas.Index with the appropriate dtype instead.\n",
      "  pd.Int64Index,\n"
     ]
    },
    {
     "data": {
      "text/plain": [
       "<AxesSubplot:>"
      ]
     },
     "execution_count": 20,
     "metadata": {},
     "output_type": "execute_result"
    },
    {
     "data": {
      "image/png": "[encoded data removed]",
      "text/plain": [
       "<Figure size 640x480 with 1 Axes>"
      ]
     },
     "metadata": {},
     "output_type": "display_data"
    }
   ],
   "source": [
    "# Read file from Shapefile\n",
    "fp = ('sub.shp')\n",
    "data = gpd.read_file(fp)\n",
    "outfp = ('sub_1.shp')\n",
    "data.to_file(outfp)\n",
    "data.head()\n",
    " \n",
    "print(data.head())\n",
    "data.columns\n",
    "data.plot()\n"
   ]
  },
  {
   "cell_type": "code",
   "execution_count": 22,
   "id": "ef805289",
   "metadata": {},
   "outputs": [
    {
     "name": "stderr",
     "output_type": "stream",
     "text": [
      "C:\\Users\\RAMBABU\\anaconda3\\lib\\site-packages\\geopandas\\io\\file.py:362: FutureWarning: pandas.Int64Index is deprecated and will be removed from pandas in a future version. Use pandas.Index with the appropriate dtype instead.\n",
      "  pd.Int64Index,\n"
     ]
    },
    {
     "name": "stdout",
     "output_type": "stream",
     "text": [
      "   OBJECTID  ISO NAME_0               NAME_1          TYPE_1    Shape_Leng  \\\n",
      "0         1  IND  India    Jammu and Kashmir           State  3.788353e+06   \n",
      "1         2  IND  India  Andaman and Nicobar  Union Territor  3.776661e+06   \n",
      "2         3  IND  India       Andhra Pradesh           State  6.697798e+06   \n",
      "3         4  IND  India    Arunachal Pradesh           State  2.908023e+06   \n",
      "4         5  IND  India                Assam           State  3.331363e+06   \n",
      "\n",
      "     Shape_Area  SN           State__pop  Population  ...  Females_0_  \\\n",
      "0  3.223835e+11  15    Jammu and Kashmir       125.5  ...         9.3   \n",
      "1  7.971302e+09   1  Andaman and Nicobar         3.8  ...         0.2   \n",
      "2  3.011748e+11   2       Andhra Pradesh       846.7  ...        41.9   \n",
      "3  1.057195e+11   3    Arunachal Pradesh        13.8  ...         1.0   \n",
      "4  9.808596e+10   4                Assam       311.7  ...        22.1   \n",
      "\n",
      "   Literates_  Lit_Males  Lit_Female  Sex_ratio  Field13  Field14  Field15  \\\n",
      "0        72.5       43.7        28.7        883     None     None     None   \n",
      "1         2.9        1.6         1.3        878     None     None     None   \n",
      "2       514.4      287.6       226.8        992     None     None     None   \n",
      "3         7.9        4.5         3.4        920     None     None     None   \n",
      "4       195.1      107.6        87.5        954     None     None     None   \n",
      "\n",
      "   Field16                                           geometry  \n",
      "0     None  POLYGON ((8320241.021 4442181.636, 8321042.760...  \n",
      "1     None  MULTIPOLYGON (((10440402.012 764657.573, 10440...  \n",
      "2     None  MULTIPOLYGON (((8936125.592 1512287.791, 89361...  \n",
      "3     None  POLYGON ((10704234.549 3424497.157, 10704905.6...  \n",
      "4     None  MULTIPOLYGON (((10004444.273 2941885.389, 1000...  \n",
      "\n",
      "[5 rows x 24 columns]\n"
     ]
    },
    {
     "data": {
      "text/plain": [
       "<AxesSubplot:>"
      ]
     },
     "execution_count": 22,
     "metadata": {},
     "output_type": "execute_result"
    },
    {
     "data": {
      "image/png": "[encoded data removed]",
      "text/plain": [
       "<Figure size 640x480 with 1 Axes>"
      ]
     },
     "metadata": {},
     "output_type": "display_data"
    }
   ],
   "source": [
    "# Read file from Shapefile\n",
    "fp = ('out.shp')\n",
    "data = gpd.read_file(fp)\n",
    "outfp = ('out_1.shp')\n",
    "data.to_file(outfp)\n",
    "data.head()\n",
    " \n",
    "print(data.head())\n",
    "data.columns\n",
    "data.plot()"
   ]
  },
  {
   "cell_type": "code",
   "execution_count": null,
   "id": "b6d27ca9",
   "metadata": {},
   "outputs": [],
   "source": []
  }
 ],
 "metadata": {
  "kernelspec": {
   "display_name": "Python 3 (ipykernel)",
   "language": "python",
   "name": "python3"
  },
  "language_info": {
   "codemirror_mode": {
    "name": "ipython",
    "version": 3
   },
   "file_extension": ".py",
   "mimetype": "text/x-python",
   "name": "python",
   "nbconvert_exporter": "python",
   "pygments_lexer": "ipython3",
   "version": "3.9.13"
  }
 },
 "nbformat": 4,
 "nbformat_minor": 5
}
