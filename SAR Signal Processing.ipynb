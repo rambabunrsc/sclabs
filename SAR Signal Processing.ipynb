{
 "cells": [
  {
   "cell_type": "code",
   "execution_count": 26,
   "id": "ce689ed1",
   "metadata": {},
   "outputs": [],
   "source": [
    "import matplotlib.pyplot as plt\n",
    "import numpy as np\n",
    "bandwidth = 10e6\n",
    "chirpDuration = 20e-6\n",
    "EchoDuration = 10e-6 + chirpDuration\n",
    "samplingFrequency = 2.5*bandwidth\n",
    "velocity = 20 #m/sec\n",
    "antennaLength = 0.5  #meters\n",
    "dopplerBandwith = 2*velocity/antennaLength\n",
    "syntheticLength = 100 \n",
    "integrationTime = syntheticLength/velocity\n",
    "prf = int(np.floor(2.5*dopplerBandwith))\n",
    "sensingTime = integrationTime\n",
    "numEchos = int(np.floor(sensingTime*prf))"
   ]
  },
  {
   "cell_type": "code",
   "execution_count": 27,
   "id": "fce69ff7",
   "metadata": {},
   "outputs": [],
   "source": [
    "numSampulse = int(np.floor(samplingFrequency*chirpDuration))"
   ]
  },
  {
   "cell_type": "code",
   "execution_count": 28,
   "id": "801c4683",
   "metadata": {},
   "outputs": [],
   "source": [
    "chirpTime = np.linspace(0,chirpDuration,numSampulse)\n",
    "numSampleEcho  = int(np.floor(samplingFrequency*EchoDuration))"
   ]
  },
  {
   "cell_type": "code",
   "execution_count": 29,
   "id": "0d00f0a2",
   "metadata": {},
   "outputs": [],
   "source": [
    "numIntegrationEcho = int(np.floor(integrationTime*prf))\n",
    "dopplerTime = np.linspace(-integrationTime/2,integrationTime/2,numIntegrationEcho)\n",
    "dopplerPulse = np.exp(1j*np.pi*(dopplerBandwith/integrationTime)*dopplerTime**2)"
   ]
  },
  {
   "cell_type": "code",
   "execution_count": 33,
   "id": "e4c5834d",
   "metadata": {},
   "outputs": [],
   "source": [
    "sig = np.zeros((numEchos,numSampleEcho))"
   ]
  },
  {
   "cell_type": "code",
   "execution_count": 34,
   "id": "27b72de0",
   "metadata": {},
   "outputs": [
    {
     "ename": "NameError",
     "evalue": "name 'bandWidth' is not defined",
     "output_type": "error",
     "traceback": [
      "\u001b[1;31m---------------------------------------------------------------------------\u001b[0m",
      "\u001b[1;31mNameError\u001b[0m                                 Traceback (most recent call last)",
      "\u001b[1;32m~\\AppData\\Local\\Temp\\ipykernel_18956\\822958846.py\u001b[0m in \u001b[0;36m<cell line: 1>\u001b[1;34m()\u001b[0m\n\u001b[1;32m----> 1\u001b[1;33m sig[i,200:numSamPulse + 200] =  np.exp(1j*np.pi*(bandWidth/chirpDuration)*chirpTime**2 +\n\u001b[0m\u001b[0;32m      2\u001b[0m                                            (dopplerBandwidth/integrationTime)*dopplerTime[i]**2)\n",
      "\u001b[1;31mNameError\u001b[0m: name 'bandWidth' is not defined"
     ]
    }
   ],
   "source": [
    "sig[i,200:numSamPulse + 200] =  np.exp(1j*np.pi*(bandWidth/chirpDuration)*chirpTime**2 +\n",
    "                                           (dopplerBandwidth/integrationTime)*dopplerTime[i]**2)"
   ]
  },
  {
   "cell_type": "code",
   "execution_count": null,
   "id": "a73f6071",
   "metadata": {},
   "outputs": [],
   "source": [
    "for i in range(numEchoes):\n",
    "    sig[i,200:numSamPulse + 200] =  np.exp(1j*np.pi*(bandWidth/chirpDuration)*chirpTime**2 +\n",
    "                                           (dopplerBandwidth/integrationTime)*dopplerTime[i]**2)"
   ]
  }
 ],
 "metadata": {
  "kernelspec": {
   "display_name": "Python 3 (ipykernel)",
   "language": "python",
   "name": "python3"
  },
  "language_info": {
   "codemirror_mode": {
    "name": "ipython",
    "version": 3
   },
   "file_extension": ".py",
   "mimetype": "text/x-python",
   "name": "python",
   "nbconvert_exporter": "python",
   "pygments_lexer": "ipython3",
   "version": "3.9.13"
  }
 },
 "nbformat": 4,
 "nbformat_minor": 5
}
