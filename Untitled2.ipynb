{
 "cells": [
  {
   "cell_type": "code",
   "execution_count": 4,
   "id": "cf0b44de",
   "metadata": {},
   "outputs": [
    {
     "name": "stdout",
     "output_type": "stream",
     "text": [
      " 7\n",
      " 23\n",
      " 33\n",
      " 34\n",
      " 54\n",
      " 67\n",
      " 445\n",
      " 543\n",
      " 8978\n",
      " 45656\n",
      " 45656\n"
     ]
    }
   ],
   "source": [
    "# Python program for implementation of Insertion Sort\n",
    "#Step 1 − If it is the first element, it is already sorted. return 1;\n",
    "#Step 2 − Pick next element\n",
    "#Step 3 − Compare with all elements in the sorted sub-list\n",
    "#Step 4 − Shift all the elements in the sorted sub-list that is greater than the\n",
    "#value to be sorted\n",
    "#Step 5 − Insert the value\n",
    "#Step 6 − Repeat until list is sorted\n",
    "\n",
    "# Function to do insertion sort\n",
    "def insertionSort(arr):\n",
    "\n",
    "\t# Traverse through 1 to len(arr)\n",
    "\tfor i in range(1, len(arr)):\n",
    "\n",
    "\t\tkey = arr[i]\n",
    "\n",
    "\t\t# Move elements of arr[0..i-1], that are\n",
    "\t\t# greater than key, to one position ahead\n",
    "\t\t# of their current position\n",
    "\t\tj = i-1\n",
    "\t\twhile j >= 0 and key < arr[j] :\n",
    "\t\t\t\tarr[j + 1] = arr[j]\n",
    "\t\t\t\tj -= 1\n",
    "\t\tarr[j + 1] = key\n",
    "\n",
    "\n",
    "# Driver code to test above\n",
    "arr = [23,34,54,67,7,445,33,8978,543,45656,45656,]\n",
    "insertionSort(arr)\n",
    "for i in range(len(arr)):\n",
    "\tprint (\"% d\" % arr[i])\n"
   ]
  },
  {
   "cell_type": "code",
   "execution_count": null,
   "id": "f4735196",
   "metadata": {},
   "outputs": [],
   "source": []
  }
 ],
 "metadata": {
  "kernelspec": {
   "display_name": "Python 3 (ipykernel)",
   "language": "python",
   "name": "python3"
  },
  "language_info": {
   "codemirror_mode": {
    "name": "ipython",
    "version": 3
   },
   "file_extension": ".py",
   "mimetype": "text/x-python",
   "name": "python",
   "nbconvert_exporter": "python",
   "pygments_lexer": "ipython3",
   "version": "3.9.13"
  }
 },
 "nbformat": 4,
 "nbformat_minor": 5
}
