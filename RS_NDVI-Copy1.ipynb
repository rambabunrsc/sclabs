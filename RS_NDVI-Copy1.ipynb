{
 "cells": [
  {
   "cell_type": "code",
   "execution_count": 19,
   "id": "b20e775d",
   "metadata": {},
   "outputs": [],
   "source": [
    "from osgeo import gdal\n",
    "import rasterio\n",
    "import numpy as np"
   ]
  },
  {
   "cell_type": "code",
   "execution_count": 20,
   "id": "4206d7db",
   "metadata": {},
   "outputs": [],
   "source": [
    "import matplotlib.pyplot as plt"
   ]
  },
  {
   "cell_type": "code",
   "execution_count": 32,
   "id": "114ee4d5",
   "metadata": {},
   "outputs": [],
   "source": [
    "#input the file\n",
    "filename = r\"C:\\Users\\RAMBABU\\Geopandas\\landsat8.tiff\""
   ]
  },
  {
   "cell_type": "code",
   "execution_count": 33,
   "id": "e66a0811",
   "metadata": {},
   "outputs": [
    {
     "name": "stdout",
     "output_type": "stream",
     "text": [
      "<open DatasetReader name='C:/Users/RAMBABU/Geopandas/landsat8.tiff' mode='r'>\n",
      "7781 7931 12\n"
     ]
    }
   ],
   "source": [
    "\n",
    "dataset = rasterio.open(filename)\n",
    "print (dataset)\n",
    "Crs = dataset.crs\n",
    "trans = dataset.transform\n",
    "cols = dataset.width\n",
    "rows = dataset.height\n",
    "bands= dataset.count\n",
    "print(cols,rows,bands)"
   ]
  },
  {
   "cell_type": "code",
   "execution_count": 34,
   "id": "042c39bb",
   "metadata": {},
   "outputs": [],
   "source": [
    "with rasterio.open(filename) as r:\n",
    "    raster_matrix_image= r.read()"
   ]
  },
  {
   "cell_type": "code",
   "execution_count": 31,
   "id": "05efb50a",
   "metadata": {},
   "outputs": [
    {
     "data": {
      "text/plain": [
       "array([[[0, 0, 0, ..., 0, 0, 0],\n",
       "        [0, 0, 0, ..., 0, 0, 0],\n",
       "        [0, 0, 0, ..., 0, 0, 0],\n",
       "        ...,\n",
       "        [0, 0, 0, ..., 0, 0, 0],\n",
       "        [0, 0, 0, ..., 0, 0, 0],\n",
       "        [0, 0, 0, ..., 0, 0, 0]],\n",
       "\n",
       "       [[0, 0, 0, ..., 0, 0, 0],\n",
       "        [0, 0, 0, ..., 0, 0, 0],\n",
       "        [0, 0, 0, ..., 0, 0, 0],\n",
       "        ...,\n",
       "        [0, 0, 0, ..., 0, 0, 0],\n",
       "        [0, 0, 0, ..., 0, 0, 0],\n",
       "        [0, 0, 0, ..., 0, 0, 0]],\n",
       "\n",
       "       [[0, 0, 0, ..., 0, 0, 0],\n",
       "        [0, 0, 0, ..., 0, 0, 0],\n",
       "        [0, 0, 0, ..., 0, 0, 0],\n",
       "        ...,\n",
       "        [0, 0, 0, ..., 0, 0, 0],\n",
       "        [0, 0, 0, ..., 0, 0, 0],\n",
       "        [0, 0, 0, ..., 0, 0, 0]],\n",
       "\n",
       "       ...,\n",
       "\n",
       "       [[0, 0, 0, ..., 0, 0, 0],\n",
       "        [0, 0, 0, ..., 0, 0, 0],\n",
       "        [0, 0, 0, ..., 0, 0, 0],\n",
       "        ...,\n",
       "        [0, 0, 0, ..., 0, 0, 0],\n",
       "        [0, 0, 0, ..., 0, 0, 0],\n",
       "        [0, 0, 0, ..., 0, 0, 0]],\n",
       "\n",
       "       [[0, 0, 0, ..., 0, 0, 0],\n",
       "        [0, 0, 0, ..., 0, 0, 0],\n",
       "        [0, 0, 0, ..., 0, 0, 0],\n",
       "        ...,\n",
       "        [0, 0, 0, ..., 0, 0, 0],\n",
       "        [0, 0, 0, ..., 0, 0, 0],\n",
       "        [0, 0, 0, ..., 0, 0, 0]],\n",
       "\n",
       "       [[1, 1, 1, ..., 1, 1, 1],\n",
       "        [1, 1, 1, ..., 1, 1, 1],\n",
       "        [1, 1, 1, ..., 1, 1, 1],\n",
       "        ...,\n",
       "        [1, 1, 1, ..., 1, 1, 1],\n",
       "        [1, 1, 1, ..., 1, 1, 1],\n",
       "        [1, 1, 1, ..., 1, 1, 1]]], dtype=uint16)"
      ]
     },
     "execution_count": 31,
     "metadata": {},
     "output_type": "execute_result"
    }
   ],
   "source": [
    "raster_matrix_image"
   ]
  },
  {
   "cell_type": "code",
   "execution_count": 36,
   "id": "6c70fe62",
   "metadata": {},
   "outputs": [],
   "source": [
    "nir = raster_matrix_image[4,:,:]\n",
    "red = raster_matrix_image[3,:,:]"
   ]
  },
  {
   "cell_type": "code",
   "execution_count": 39,
   "id": "0ebd438e",
   "metadata": {},
   "outputs": [
    {
     "data": {
      "text/plain": [
       "{'divide': 'warn', 'over': 'warn', 'under': 'ignore', 'invalid': 'warn'}"
      ]
     },
     "execution_count": 39,
     "metadata": {},
     "output_type": "execute_result"
    }
   ],
   "source": [
    "dinom = nir+red\n",
    "numer = nir-red\n",
    "np.seterr(divide='ignore', invalid='ignore')"
   ]
  },
  {
   "cell_type": "code",
   "execution_count": 40,
   "id": "281bec7e",
   "metadata": {},
   "outputs": [],
   "source": [
    "ndvi = np.where(dinom==0.0, 0.0, numer/dinom)"
   ]
  },
  {
   "cell_type": "code",
   "execution_count": 41,
   "id": "8de1e7cd",
   "metadata": {},
   "outputs": [
    {
     "data": {
      "text/plain": [
       "<matplotlib.image.AxesImage at 0x28ece915e80>"
      ]
     },
     "execution_count": 41,
     "metadata": {},
     "output_type": "execute_result"
    },
    {
     "data": {
      "image/png": "[encoded data removed]",
      "text/plain": [
       "<Figure size 640x480 with 1 Axes>"
      ]
     },
     "metadata": {},
     "output_type": "display_data"
    }
   ],
   "source": [
    "plt.figure()\n",
    "plt.imshow(ndvi)"
   ]
  },
  {
   "cell_type": "code",
   "execution_count": 42,
   "id": "10085321",
   "metadata": {},
   "outputs": [
    {
     "data": {
      "text/plain": [
       "array([[0., 0., 0., ..., 0., 0., 0.],\n",
       "       [0., 0., 0., ..., 0., 0., 0.],\n",
       "       [0., 0., 0., ..., 0., 0., 0.],\n",
       "       ...,\n",
       "       [0., 0., 0., ..., 0., 0., 0.],\n",
       "       [0., 0., 0., ..., 0., 0., 0.],\n",
       "       [0., 0., 0., ..., 0., 0., 0.]])"
      ]
     },
     "execution_count": 42,
     "metadata": {},
     "output_type": "execute_result"
    }
   ],
   "source": [
    "ndvi"
   ]
  },
  {
   "cell_type": "code",
   "execution_count": 47,
   "id": "b2886fac",
   "metadata": {},
   "outputs": [
    {
     "data": {
      "text/plain": [
       "0"
      ]
     },
     "execution_count": 47,
     "metadata": {},
     "output_type": "execute_result"
    }
   ],
   "source": [
    "np.amin(nir.flatten())"
   ]
  },
  {
   "cell_type": "code",
   "execution_count": 44,
   "id": "7d31c271",
   "metadata": {},
   "outputs": [
    {
     "data": {
      "text/plain": [
       "array([[0, 0, 0, ..., 0, 0, 0],\n",
       "       [0, 0, 0, ..., 0, 0, 0],\n",
       "       [0, 0, 0, ..., 0, 0, 0],\n",
       "       ...,\n",
       "       [0, 0, 0, ..., 0, 0, 0],\n",
       "       [0, 0, 0, ..., 0, 0, 0],\n",
       "       [0, 0, 0, ..., 0, 0, 0]], dtype=uint16)"
      ]
     },
     "execution_count": 44,
     "metadata": {},
     "output_type": "execute_result"
    }
   ],
   "source": [
    "red"
   ]
  },
  {
   "cell_type": "code",
   "execution_count": 50,
   "id": "87e81ce7",
   "metadata": {},
   "outputs": [],
   "source": [
    "out_meta = dataset.meta.copy()\n",
    "\n",
    "out_meta.update({'driver':'GTiff',\n",
    "                 'width':dataset.shape[1],\n",
    "                 'height':dataset.shape[0],\n",
    "                 'count':1,\n",
    "                 'dtype':'float64',\n",
    "                 'crs':dataset.crs, \n",
    "                 'transform':dataset.transform,\n",
    "                 'nodata':0})"
   ]
  },
  {
   "cell_type": "code",
   "execution_count": 52,
   "id": "26d694aa",
   "metadata": {},
   "outputs": [],
   "source": [
    "\n",
    "with rasterio.open(fp=r'ndvi1.tif', #outputpath_name\n",
    "             mode='w',**out_meta) as dst:\n",
    "             dst.write(ndvi, 1) # the numer one is the number of bands\n",
    "\n",
    "with rasterio.open(fp=r'ndvi1.tif', # outputpath_name\n",
    "             mode='w',**out_meta) as dst:\n",
    "             dst.write_band(1,ndvi) # the numer one is the number of bands"
   ]
  },
  {
   "cell_type": "code",
   "execution_count": null,
   "id": "f4350835",
   "metadata": {},
   "outputs": [],
   "source": []
  }
 ],
 "metadata": {
  "kernelspec": {
   "display_name": "Python 3 (ipykernel)",
   "language": "python",
   "name": "python3"
  },
  "language_info": {
   "codemirror_mode": {
    "name": "ipython",
    "version": 3
   },
   "file_extension": ".py",
   "mimetype": "text/x-python",
   "name": "python",
   "nbconvert_exporter": "python",
   "pygments_lexer": "ipython3",
   "version": "3.9.13"
  }
 },
 "nbformat": 4,
 "nbformat_minor": 5
}
