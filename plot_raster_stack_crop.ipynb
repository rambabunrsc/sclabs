{
 "cells": [
  {
   "cell_type": "code",
   "execution_count": null,
   "metadata": {},
   "outputs": [],
   "source": [
    "%matplotlib inline"
   ]
  },
  {
   "cell_type": "markdown",
   "metadata": {},
   "source": [
    "\n",
    "# Stack and Crop Raster Data Using EarthPy\n",
    "\n",
    "Learn how to stack and crop satellite imagery using EarthPy\n"
   ]
  },
  {
   "cell_type": "markdown",
   "metadata": {},
   "source": [
    "## Stack and Crop Raster Data Using EarthPy\n",
    "\n",
    "<div class=\"alert alert-info\"><h4>Note</h4><p>The examples below will show you how to use the ``es.stack()`` and\n",
    "      ``es.crop_image()`` functions from EarthPy.</p></div>\n",
    "\n"
   ]
  },
  {
   "cell_type": "markdown",
   "metadata": {},
   "source": [
    "## Stack Multi Band Imagery\n",
    "Some remote sensing datasets are stored with each band in a separate file. However,\n",
    "often you want to use all of the bands together in your analysis. For example\n",
    "you need all of the bands together in the same file or \"stack\" in order to plot a color\n",
    "RGB image. EarthPy has a ``stack()`` function that allows you\n",
    "to take a set of ``.tif`` files that are all in the same spatial extent, CRS and resolution\n",
    "and either export them together a single stacked ``.tif`` file or work with them in Python\n",
    "directly as a stacked numpy array.\n",
    "\n",
    "To begin using the EarthPy ``stack()`` function, import the needed packages\n",
    "and create an array to be plotted. Below you plot the data as continuous with a colorbar\n",
    "using the ``plot_bands()`` function.\n",
    "\n"
   ]
  },
  {
   "cell_type": "markdown",
   "metadata": {},
   "source": [
    "## Import Packages\n",
    "\n",
    "You will need several packages to stack your raster. You will use GeoPandas to\n",
    "open up a shapefile that will be used to crop your data. You will primarily be\n",
    "using the EarthPy spatial module in this vignette.\n",
    "\n"
   ]
  },
  {
   "cell_type": "code",
   "execution_count": 2,
   "metadata": {},
   "outputs": [
    {
     "name": "stderr",
     "output_type": "stream",
     "text": [
      "C:\\Users\\RAMBABU\\anaconda3\\lib\\site-packages\\geopandas\\_compat.py:111: UserWarning: The Shapely GEOS version (3.11.0-CAPI-1.17.0) is incompatible with the GEOS version PyGEOS was compiled with (3.10.3-CAPI-1.16.1). Conversions between both will be slow.\n",
      "  warnings.warn(\n"
     ]
    }
   ],
   "source": [
    "import os\n",
    "from glob import glob\n",
    "import matplotlib.pyplot as plt\n",
    "import rasterio as rio\n",
    "from rasterio.plot import plotting_extent\n",
    "import geopandas as gpd\n",
    "import earthpy as et\n",
    "import earthpy.spatial as es\n",
    "import earthpy.plot as ep"
   ]
  },
  {
   "cell_type": "markdown",
   "metadata": {},
   "source": [
    "## Get Example Data Ready for Stack\n",
    "With EarthPy you can create a stack from all of the Landsat .tif files (one per band)\n",
    "in a folder with the ``es.stack()`` function.\n",
    "\n"
   ]
  },
  {
   "cell_type": "markdown",
   "metadata": {},
   "source": [
    "## Error found on Windows systems\n",
    "<div class=\"alert alert-info\"><h4>Note</h4><p>If you are running this script on a Windows system, there is a\n",
    "      known bug with ``.to_crs()``, which is used in this script. If an error\n",
    "      occurs, you have to reset your os environment with the command\n",
    "      ``os.environ[\"PROJ_LIB\"] = r\"path-to-share-folder-in-environment\"``.</p></div>\n",
    "\n"
   ]
  },
  {
   "cell_type": "code",
   "execution_count": null,
   "metadata": {},
   "outputs": [
    {
     "name": "stdout",
     "output_type": "stream",
     "text": [
      "Downloading from https://ndownloader.figshare.com/files/15197339\n"
     ]
    }
   ],
   "source": [
    "# Get sample data from EarthPy and setting your home working directory\n",
    "\n",
    "data_path = et.data.get_data(\"vignette-landsat\")\n",
    "os.chdir(os.path.join(et.io.HOME, \"earth-analytics\"))\n",
    "\n",
    "# Prepare the landsat bands to be stacked using glob and sort\n",
    "\n",
    "landsat_bands_data_path = \"data/vignette-landsat/LC08_L1TP_034032_20160621_20170221_01_T1_sr_band*[2-4]*_crop.tif\"\n",
    "stack_band_paths = glob(landsat_bands_data_path)\n",
    "stack_band_paths.sort()\n",
    "\n",
    "# Create output directory and the output path\n",
    "\n",
    "output_dir = os.path.join(\"data\", \"outputs\")\n",
    "if os.path.isdir(output_dir) == False:\n",
    "    os.mkdir(output_dir)\n",
    "\n",
    "raster_out_path = os.path.join(output_dir, \"raster.tiff\")"
   ]
  },
  {
   "cell_type": "markdown",
   "metadata": {},
   "source": [
    "## Stack the Bands\n",
    "The stack function has an optional output argument, where you can write the raster\n",
    "to a tiff file in a folder. If you want to use this functionality, make sure there\n",
    "is a folder to write your tiff file to.\n",
    "The Stack function also returns two object, an array and a RasterIO profile. Make\n",
    "sure to be catch both in variables.\n",
    "\n"
   ]
  },
  {
   "cell_type": "code",
   "execution_count": null,
   "metadata": {},
   "outputs": [],
   "source": [
    "# Stack Landsat bands\n",
    "\n",
    "os.chdir(os.path.join(et.io.HOME, \"earth-analytics\"))\n",
    "array, raster_prof = es.stack(stack_band_paths, out_path=raster_out_path)"
   ]
  },
  {
   "cell_type": "markdown",
   "metadata": {},
   "source": [
    "## Create Extent Object\n",
    "To get the raster extent, use the ``plotting_extent`` function on the\n",
    "array from ``es.stack()`` and the Rasterio profile or metadata object. The function\n",
    "needs a single\n",
    "layer of a numpy array, which is why we use ``arr[0]``. The function also\n",
    "needs the spatial transformation for the Rasterio object, which can be acquired by accessing\n",
    "the ``\"transform\"`` key within the Rasterio Profile.\n",
    "\n"
   ]
  },
  {
   "cell_type": "code",
   "execution_count": null,
   "metadata": {},
   "outputs": [],
   "source": [
    "extent = plotting_extent(array[0], raster_prof[\"transform\"])"
   ]
  },
  {
   "cell_type": "markdown",
   "metadata": {},
   "source": [
    "## Plot Un-cropped Data\n",
    "You can see the boundary and the raster before the crop using ``ep.plot_rgb()``\n",
    "Notice that the data appear washed out.\n",
    "\n"
   ]
  },
  {
   "cell_type": "code",
   "execution_count": null,
   "metadata": {},
   "outputs": [],
   "source": [
    "fig, ax = plt.subplots(figsize=(12, 12))\n",
    "ep.plot_rgb(\n",
    "    array,\n",
    "    ax=ax,\n",
    "    stretch=True,\n",
    "    extent=extent,\n",
    "    str_clip=0.5,\n",
    "    title=\"RGB Image of Un-cropped Raster\",\n",
    ")\n",
    "plt.show()"
   ]
  },
  {
   "cell_type": "markdown",
   "metadata": {},
   "source": [
    "## Explore the Range of Values in the Data\n",
    "You can explore the range of values found in the data using the EarthPy ``hist()``\n",
    "function. Do you notice any extreme values that may be impacting the stretch\n",
    "of the image?\n",
    "\n"
   ]
  },
  {
   "cell_type": "code",
   "execution_count": null,
   "metadata": {},
   "outputs": [],
   "source": [
    "ep.hist(array, title=[\"Band 1\", \"Band 2\", \"Band 3\"])\n",
    "plt.show()"
   ]
  },
  {
   "cell_type": "markdown",
   "metadata": {},
   "source": [
    "## No Data Option\n",
    "``es.stack()`` can handle ``nodata`` values in a raster. To use this\n",
    "parameter, specify ``nodata=``. This will mask every pixel that contains\n",
    "the specified ``nodata`` value. The output will be a numpy masked array.\n",
    "\n"
   ]
  },
  {
   "cell_type": "code",
   "execution_count": null,
   "metadata": {},
   "outputs": [],
   "source": [
    "os.chdir(os.path.join(et.io.HOME, \"earth-analytics\"))\n",
    "array_nodata, raster_prof_nodata = es.stack(stack_band_paths, nodata=-9999)\n",
    "\n",
    "# View hist of data with nodata values removed\n",
    "ep.hist(\n",
    "    array_nodata,\n",
    "    title=[\n",
    "        \"Band 1 - No Data Values Removed\",\n",
    "        \"Band 2 - No Data Values Removed\",\n",
    "        \"Band 3 - No Data Values Removed\",\n",
    "    ],\n",
    ")\n",
    "plt.show()\n",
    "\n",
    "# Recreate extent object for the No Data array\n",
    "\n",
    "extent_nodata = plotting_extent(\n",
    "    array_nodata[0], raster_prof_nodata[\"transform\"]\n",
    ")"
   ]
  },
  {
   "cell_type": "markdown",
   "metadata": {},
   "source": [
    "## Plot Un-cropped Data\n",
    "Plot the data again after the nodata values are removed.\n",
    "\n"
   ]
  },
  {
   "cell_type": "code",
   "execution_count": null,
   "metadata": {},
   "outputs": [],
   "source": [
    "fig, ax = plt.subplots(figsize=(12, 12))\n",
    "ep.plot_rgb(\n",
    "    array_nodata,\n",
    "    ax=ax,\n",
    "    stretch=True,\n",
    "    extent=extent,\n",
    "    str_clip=0.5,\n",
    "    title=\"RGB image of Un-cropped Raster, No Data Value Selected\",\n",
    ")\n",
    "plt.show()"
   ]
  },
  {
   "cell_type": "markdown",
   "metadata": {},
   "source": [
    "## Crop the Data\n",
    "Sometimes you have data for an area that is larger than your study area.\n",
    "It is more efficient to first crop the data to your study area before processing\n",
    "it in Python. The fastest and most efficient option is to crop each file\n",
    "individually, write out the cropped raster to a new file, and then stack\n",
    "the new files together. To do this, make sure you have a ShapeFile boundary\n",
    "in the form of a GeoPandas object you can use as the cropping object.\n",
    "Then, loop through every file you wish to crop and crop the image, then\n",
    "write it out to a file. Take the rasters created and stack them like\n",
    "you stacked bands in the previous examples.\n",
    "\n"
   ]
  },
  {
   "cell_type": "code",
   "execution_count": null,
   "metadata": {},
   "outputs": [],
   "source": [
    "os.chdir(os.path.join(et.io.HOME, \"earth-analytics\"))\n",
    "\n",
    "# Open the crop boundary using GeoPandas.\n",
    "\n",
    "crop_bound = gpd.read_file(\n",
    "    \"data/vignette-landsat/vector_layers/fire-boundary-geomac/co_cold_springs_20160711_2200_dd83.shp\"\n",
    ")"
   ]
  },
  {
   "cell_type": "markdown",
   "metadata": {},
   "source": [
    "## Reproject the data\n",
    "<div class=\"alert alert-info\"><h4>Note</h4><p>If you are on windows, make sure to set your environment here!</p></div>\n",
    "\n",
    "The crop function won't work properly if the data are in different Coordinate\n",
    "Reference Systems (CRS). To fix this, be sure to reproject the crop layer to match\n",
    "the CRS of your raster data.\n",
    "To reproject your data, first get the CRS of the raster from the rasterio profile\n",
    "object. Then use that to reproject using geopandas ``.to_crs`` method.\n",
    "\n"
   ]
  },
  {
   "cell_type": "code",
   "execution_count": null,
   "metadata": {},
   "outputs": [],
   "source": [
    "os.chdir(os.path.join(et.io.HOME, \"earth-analytics\"))\n",
    "\n",
    "with rio.open(stack_band_paths[0]) as raster_crs:\n",
    "    crop_raster_profile = raster_crs.profile\n",
    "    crop_bound_utm13N = crop_bound.to_crs(crop_raster_profile[\"crs\"])"
   ]
  },
  {
   "cell_type": "markdown",
   "metadata": {},
   "source": [
    "## Crop Each Band\n",
    "When you need to crop and stack a set of images, it is  most efficient to first\n",
    "crop each image, and then stack it.\n",
    "``es.crop_all()`` is an efficient way to crop all bands in an image quickly.\n",
    "The function will write out cropped rasters to a\n",
    "directory and return a list of file paths that can then be used with\n",
    "``es.stack()``.\n",
    "\n"
   ]
  },
  {
   "cell_type": "code",
   "execution_count": null,
   "metadata": {},
   "outputs": [],
   "source": [
    "os.chdir(os.path.join(et.io.HOME, \"earth-analytics\"))\n",
    "\n",
    "band_paths_list = es.crop_all(\n",
    "    stack_band_paths, output_dir, crop_bound_utm13N, overwrite=True\n",
    ")"
   ]
  },
  {
   "cell_type": "markdown",
   "metadata": {},
   "source": [
    "## Stack All Bands\n",
    "Once the data are cropped, you are ready to create a new stack.\n",
    "\n"
   ]
  },
  {
   "cell_type": "code",
   "execution_count": null,
   "metadata": {},
   "outputs": [],
   "source": [
    "os.chdir(os.path.join(et.io.HOME, \"earth-analytics\"))\n",
    "\n",
    "cropped_array, array_raster_profile = es.stack(band_paths_list, nodata=-9999)\n",
    "crop_extent = plotting_extent(\n",
    "    cropped_array[0], array_raster_profile[\"transform\"]\n",
    ")\n",
    "\n",
    "# Plotting the cropped image\n",
    "# sphinx_gallery_thumbnail_number = 5\n",
    "fig, ax = plt.subplots(figsize=(12, 6))\n",
    "crop_bound_utm13N.boundary.plot(ax=ax, color=\"red\", zorder=10)\n",
    "ep.plot_rgb(\n",
    "    cropped_array,\n",
    "    ax=ax,\n",
    "    stretch=True,\n",
    "    extent=crop_extent,\n",
    "    title=\"Cropped Raster and Fire Boundary\",\n",
    ")\n",
    "plt.show()"
   ]
  },
  {
   "cell_type": "markdown",
   "metadata": {},
   "source": [
    "## Crop Individual Bands\n",
    "If you only need to crop one raster image, you can use EarthPy's\n",
    "``es.crop_image()`` function.\n",
    "This function takes a Rasterio object and crops it to the provided\n",
    "spatial extent.\n",
    "\n"
   ]
  },
  {
   "cell_type": "code",
   "execution_count": null,
   "metadata": {},
   "outputs": [],
   "source": [
    "# Open Landsat image as a Rasterio object in order to crop it\n",
    "os.chdir(os.path.join(et.io.HOME, \"earth-analytics\"))\n",
    "\n",
    "with rio.open(stack_band_paths[0]) as src:\n",
    "    single_cropped_image, single_cropped_meta = es.crop_image(\n",
    "        src, crop_bound_utm13N\n",
    "    )\n",
    "\n",
    "# Create the extent object\n",
    "single_crop_extent = plotting_extent(\n",
    "    single_cropped_image[0], single_cropped_meta[\"transform\"]\n",
    ")\n",
    "\n",
    "# Plot the newly cropped image\n",
    "fig, ax = plt.subplots(figsize=(12, 6))\n",
    "crop_bound_utm13N.boundary.plot(ax=ax, color=\"red\", zorder=10)\n",
    "ep.plot_bands(\n",
    "    single_cropped_image,\n",
    "    ax=ax,\n",
    "    extent=single_crop_extent,\n",
    "    title=\"Single Cropped Raster and Fire Boundary\",\n",
    ")\n",
    "plt.show()"
   ]
  }
 ],
 "metadata": {
  "kernelspec": {
   "display_name": "Python 3 (ipykernel)",
   "language": "python",
   "name": "python3"
  },
  "language_info": {
   "codemirror_mode": {
    "name": "ipython",
    "version": 3
   },
   "file_extension": ".py",
   "mimetype": "text/x-python",
   "name": "python",
   "nbconvert_exporter": "python",
   "pygments_lexer": "ipython3",
   "version": "3.9.13"
  }
 },
 "nbformat": 4,
 "nbformat_minor": 1
}
